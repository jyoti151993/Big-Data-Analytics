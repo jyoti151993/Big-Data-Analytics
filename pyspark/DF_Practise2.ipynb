{
 "cells": [
  {
   "cell_type": "code",
   "execution_count": 1,
   "metadata": {},
   "outputs": [],
   "source": [
    "import findspark\n",
    "findspark.init('/usr/local/spark')\n",
    "import pyspark\n",
    "from pyspark.sql import SparkSession"
   ]
  },
  {
   "cell_type": "code",
   "execution_count": 2,
   "metadata": {},
   "outputs": [],
   "source": [
    "spark=SparkSession.builder.appName(\"DataFrame practise 2\").getOrCreate()"
   ]
  },
  {
   "cell_type": "code",
   "execution_count": 4,
   "metadata": {},
   "outputs": [
    {
     "data": {
      "text/html": [
       "\n",
       "            <div>\n",
       "                <p><b>SparkSession - in-memory</b></p>\n",
       "                \n",
       "        <div>\n",
       "            <p><b>SparkContext</b></p>\n",
       "\n",
       "            <p><a href=\"http://10.0.2.15:4041\">Spark UI</a></p>\n",
       "\n",
       "            <dl>\n",
       "              <dt>Version</dt>\n",
       "                <dd><code>v2.2.2</code></dd>\n",
       "              <dt>Master</dt>\n",
       "                <dd><code>local[*]</code></dd>\n",
       "              <dt>AppName</dt>\n",
       "                <dd><code>DataFrame practise 2</code></dd>\n",
       "            </dl>\n",
       "        </div>\n",
       "        \n",
       "            </div>\n",
       "        "
      ],
      "text/plain": [
       "<pyspark.sql.session.SparkSession at 0x7f75a67a6a58>"
      ]
     },
     "execution_count": 4,
     "metadata": {},
     "output_type": "execute_result"
    }
   ],
   "source": [
    "spark"
   ]
  },
  {
   "cell_type": "code",
   "execution_count": 5,
   "metadata": {},
   "outputs": [
    {
     "name": "stdout",
     "output_type": "stream",
     "text": [
      "+------+----+----------+------+\n",
      "|  Name| Age|Experience|salary|\n",
      "+------+----+----------+------+\n",
      "| Rohan|  30|         6| 10000|\n",
      "|  Jaya|  25|         2| 35000|\n",
      "| Kirti|  32|         7| 40000|\n",
      "|Amrita|  28|         4| 25000|\n",
      "| Mohit|  25|         5| 20000|\n",
      "|  Jaya|  29|         2|160000|\n",
      "|  null|null|      null|  null|\n",
      "|  null|  34|      null| 24000|\n",
      "|  null|null|      null|  null|\n",
      "|  null|null|         6|  null|\n",
      "+------+----+----------+------+\n",
      "\n"
     ]
    }
   ],
   "source": [
    "df=spark.read.option(\"header\",\"true\").csv(\"/home/hduser/Downloads/sharedfolder/emp.csv\",inferSchema=\"true\")\n",
    "df.show()"
   ]
  },
  {
   "cell_type": "markdown",
   "metadata": {},
   "source": [
    "# Dropping the Column\n",
    "#Dropping the Row"
   ]
  },
  {
   "cell_type": "code",
   "execution_count": 6,
   "metadata": {},
   "outputs": [
    {
     "name": "stdout",
     "output_type": "stream",
     "text": [
      "+----+----------+------+\n",
      "| Age|Experience|salary|\n",
      "+----+----------+------+\n",
      "|  30|         6| 10000|\n",
      "|  25|         2| 35000|\n",
      "|  32|         7| 40000|\n",
      "|  28|         4| 25000|\n",
      "|  25|         5| 20000|\n",
      "|  29|         2|160000|\n",
      "|null|      null|  null|\n",
      "|  34|      null| 24000|\n",
      "|null|      null|  null|\n",
      "|null|         6|  null|\n",
      "+----+----------+------+\n",
      "\n"
     ]
    }
   ],
   "source": [
    "df.drop(\"Name\").show()\n"
   ]
  },
  {
   "cell_type": "markdown",
   "metadata": {},
   "source": [
    "# Dropping rows with null values"
   ]
  },
  {
   "cell_type": "code",
   "execution_count": 7,
   "metadata": {},
   "outputs": [
    {
     "name": "stdout",
     "output_type": "stream",
     "text": [
      "+------+---+----------+------+\n",
      "|  Name|Age|Experience|salary|\n",
      "+------+---+----------+------+\n",
      "| Rohan| 30|         6| 10000|\n",
      "|  Jaya| 25|         2| 35000|\n",
      "| Kirti| 32|         7| 40000|\n",
      "|Amrita| 28|         4| 25000|\n",
      "| Mohit| 25|         5| 20000|\n",
      "|  Jaya| 29|         2|160000|\n",
      "+------+---+----------+------+\n",
      "\n"
     ]
    }
   ],
   "source": [
    "df.na.drop().show()"
   ]
  },
  {
   "cell_type": "code",
   "execution_count": 9,
   "metadata": {},
   "outputs": [
    {
     "name": "stdout",
     "output_type": "stream",
     "text": [
      "+------+----+----------+------+\n",
      "|  Name| Age|Experience|salary|\n",
      "+------+----+----------+------+\n",
      "| Rohan|  30|         6| 10000|\n",
      "|  Jaya|  25|         2| 35000|\n",
      "| Kirti|  32|         7| 40000|\n",
      "|Amrita|  28|         4| 25000|\n",
      "| Mohit|  25|         5| 20000|\n",
      "|  Jaya|  29|         2|160000|\n",
      "|  null|  34|      null| 24000|\n",
      "|  null|null|         6|  null|\n",
      "+------+----+----------+------+\n",
      "\n"
     ]
    }
   ],
   "source": [
    "## any=how\n",
    "df.na.drop(how='all').show()"
   ]
  },
  {
   "cell_type": "code",
   "execution_count": 13,
   "metadata": {},
   "outputs": [
    {
     "name": "stdout",
     "output_type": "stream",
     "text": [
      "+------+---+----------+------+\n",
      "|  Name|Age|Experience|salary|\n",
      "+------+---+----------+------+\n",
      "| Rohan| 30|         6| 10000|\n",
      "|  Jaya| 25|         2| 35000|\n",
      "| Kirti| 32|         7| 40000|\n",
      "|Amrita| 28|         4| 25000|\n",
      "| Mohit| 25|         5| 20000|\n",
      "|  Jaya| 29|         2|160000|\n",
      "|  null| 34|      null| 24000|\n",
      "+------+---+----------+------+\n",
      "\n"
     ]
    }
   ],
   "source": [
    "## threshold\n",
    "df.na.drop(how='any',thresh=2).show()"
   ]
  },
  {
   "cell_type": "code",
   "execution_count": 16,
   "metadata": {},
   "outputs": [
    {
     "name": "stdout",
     "output_type": "stream",
     "text": [
      "+------+---+----------+------+\n",
      "|  Name|Age|Experience|salary|\n",
      "+------+---+----------+------+\n",
      "| Rohan| 30|         6| 10000|\n",
      "|  Jaya| 25|         2| 35000|\n",
      "| Kirti| 32|         7| 40000|\n",
      "|Amrita| 28|         4| 25000|\n",
      "| Mohit| 25|         5| 20000|\n",
      "|  Jaya| 29|         2|160000|\n",
      "+------+---+----------+------+\n",
      "\n"
     ]
    }
   ],
   "source": [
    "##subset\n",
    "df.na.drop(how='any',subset=[\"Experience\",\"Name\"]).show()"
   ]
  },
  {
   "cell_type": "code",
   "execution_count": 20,
   "metadata": {},
   "outputs": [
    {
     "name": "stdout",
     "output_type": "stream",
     "text": [
      "+------------+----+----------+------+\n",
      "|        Name| Age|Experience|salary|\n",
      "+------------+----+----------+------+\n",
      "|       Rohan|  30|         6| 10000|\n",
      "|        Jaya|  25|         2| 35000|\n",
      "|       Kirti|  32|         7| 40000|\n",
      "|      Amrita|  28|         4| 25000|\n",
      "|       Mohit|  25|         5| 20000|\n",
      "|        Jaya|  29|         2|160000|\n",
      "|Unkown value|null|      null|  null|\n",
      "|Unkown value|  34|      null| 24000|\n",
      "|Unkown value|null|      null|  null|\n",
      "|Unkown value|null|         6|  null|\n",
      "+------------+----+----------+------+\n",
      "\n"
     ]
    }
   ],
   "source": [
    "## Filling the missing value\n",
    "df.na.fill(\"Unkown value\",[\"Name\",\"Age\",\"Experience\"]).show()"
   ]
  },
  {
   "cell_type": "code",
   "execution_count": 18,
   "metadata": {},
   "outputs": [
    {
     "name": "stdout",
     "output_type": "stream",
     "text": [
      "+------------+----+----------+------+\n",
      "|        Name| Age|Experience|salary|\n",
      "+------------+----+----------+------+\n",
      "|       Rohan|  30|         6| 10000|\n",
      "|        Jaya|  25|         2| 35000|\n",
      "|       Kirti|  32|         7| 40000|\n",
      "|      Amrita|  28|         4| 25000|\n",
      "|       Mohit|  25|         5| 20000|\n",
      "|        Jaya|  29|         2|160000|\n",
      "|Unkown value|null|      null|  null|\n",
      "|Unkown value|  34|      null| 24000|\n",
      "|Unkown value|null|      null|  null|\n",
      "|Unkown value|null|         6|  null|\n",
      "+------------+----+----------+------+\n",
      "\n"
     ]
    }
   ],
   "source": [
    "df.na.fill(\"Unkown value\").show()"
   ]
  },
  {
   "cell_type": "code",
   "execution_count": 21,
   "metadata": {},
   "outputs": [],
   "source": [
    "from pyspark.ml.feature import Imputer\n",
    "imputer=Imputer(inputCols=['Age','Experience','salary'],outputCols=[\"{}_imputed\".format(c) for c in ['Age','Experience','salary']]).setStrategy(\"mean\")"
   ]
  },
  {
   "cell_type": "code",
   "execution_count": 26,
   "metadata": {},
   "outputs": [
    {
     "data": {
      "text/plain": [
       "[('Name', 'string'), ('Age', 'int'), ('Experience', 'int'), ('salary', 'int')]"
      ]
     },
     "execution_count": 26,
     "metadata": {},
     "output_type": "execute_result"
    }
   ],
   "source": [
    "df.dtypes"
   ]
  },
  {
   "cell_type": "code",
   "execution_count": null,
   "metadata": {},
   "outputs": [],
   "source": [
    "## add imputer columns to df\n",
    "imputer.fit(df).transform(df).show()"
   ]
  }
 ],
 "metadata": {
  "kernelspec": {
   "display_name": "Python 3",
   "language": "python",
   "name": "python3"
  },
  "language_info": {
   "codemirror_mode": {
    "name": "ipython",
    "version": 3
   },
   "file_extension": ".py",
   "mimetype": "text/x-python",
   "name": "python",
   "nbconvert_exporter": "python",
   "pygments_lexer": "ipython3",
   "version": "3.5.2"
  }
 },
 "nbformat": 4,
 "nbformat_minor": 2
}
