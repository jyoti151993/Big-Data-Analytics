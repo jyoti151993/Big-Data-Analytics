{
 "cells": [
  {
   "cell_type": "code",
   "execution_count": 12,
   "metadata": {},
   "outputs": [],
   "source": [
    "import findspark\n",
    "findspark.init('/usr/local/spark')\n",
    "import pyspark\n",
    "from pyspark.sql import SparkSession"
   ]
  },
  {
   "cell_type": "code",
   "execution_count": 13,
   "metadata": {},
   "outputs": [],
   "source": [
    "spark=SparkSession.builder.appName(\"Python Spark SQL Example\").getOrCreate()"
   ]
  },
  {
   "cell_type": "code",
   "execution_count": 14,
   "metadata": {},
   "outputs": [],
   "source": [
    "customerDF=spark.read.load('/home/hduser/Downloads/customers.txt',format=\"csv\",sep=\"\\t\",inferSchema=\"true\",header=\"true\")"
   ]
  },
  {
   "cell_type": "code",
   "execution_count": 15,
   "metadata": {},
   "outputs": [
    {
     "name": "stdout",
     "output_type": "stream",
     "text": [
      "root\n",
      " |-- customer_id: integer (nullable = true)\n",
      " |-- customer_name: string (nullable = true)\n",
      " |-- customer_city: string (nullable = true)\n",
      " |-- customer_state: string (nullable = true)\n",
      " |-- customer_zipcode: integer (nullable = true)\n",
      "\n"
     ]
    }
   ],
   "source": [
    "customerDF.printSchema()"
   ]
  },
  {
   "cell_type": "code",
   "execution_count": 17,
   "metadata": {},
   "outputs": [
    {
     "name": "stdout",
     "output_type": "stream",
     "text": [
      "+----------------+\n",
      "|   customer_name|\n",
      "+----------------+\n",
      "|     Mary Torres|\n",
      "|      Jose Haley|\n",
      "|      Mary Smith|\n",
      "|  Richard Maddox|\n",
      "|  Margaret Booth|\n",
      "|  Mary Henderson|\n",
      "|     Lisa Walker|\n",
      "|   Jonathan Hill|\n",
      "|Carolyn Sheppard|\n",
      "|    Mary Mendoza|\n",
      "|   Michael Smith|\n",
      "|    James Holmes|\n",
      "|     Mary Dawson|\n",
      "|    Adam Marquez|\n",
      "|    Gloria Smith|\n",
      "|       Mary Webb|\n",
      "|  Nancy Alvarado|\n",
      "|  Russell Flores|\n",
      "|    Denise Smith|\n",
      "|  Jose Dickerson|\n",
      "+----------------+\n",
      "only showing top 20 rows\n",
      "\n"
     ]
    }
   ],
   "source": [
    "customerDF.select(customerDF[\"customer_name\"]).show()"
   ]
  },
  {
   "cell_type": "code",
   "execution_count": 21,
   "metadata": {},
   "outputs": [
    {
     "name": "stdout",
     "output_type": "stream",
     "text": [
      "+----------------+-------------+\n",
      "|   customer_name|customer_city|\n",
      "+----------------+-------------+\n",
      "|     Mary Torres|       Caguas|\n",
      "|      Jose Haley|     Columbus|\n",
      "|      Mary Smith|      Houston|\n",
      "|  Richard Maddox|       Caguas|\n",
      "|  Margaret Booth|    Arlington|\n",
      "|  Mary Henderson|       Caguas|\n",
      "|     Lisa Walker|       Caguas|\n",
      "|   Jonathan Hill|      Phoenix|\n",
      "|Carolyn Sheppard|Pompano Beach|\n",
      "|    Mary Mendoza|       Caguas|\n",
      "|   Michael Smith|       Caguas|\n",
      "|    James Holmes|     Hilliard|\n",
      "|     Mary Dawson|       Caguas|\n",
      "|    Adam Marquez|  San Antonio|\n",
      "|    Gloria Smith|       Caguas|\n",
      "|       Mary Webb|   San Marcos|\n",
      "|  Nancy Alvarado|     Flushing|\n",
      "|  Russell Flores|       Caguas|\n",
      "|    Denise Smith|    Rego Park|\n",
      "|  Jose Dickerson|         Mesa|\n",
      "+----------------+-------------+\n",
      "only showing top 20 rows\n",
      "\n"
     ]
    }
   ],
   "source": [
    "customerDF.select(customerDF['customer_name'],customerDF['customer_city']).show()"
   ]
  },
  {
   "cell_type": "code",
   "execution_count": 23,
   "metadata": {},
   "outputs": [
    {
     "name": "stdout",
     "output_type": "stream",
     "text": [
      "+-----------+----------------+---------------+--------------+----------------+\n",
      "|customer_id|   customer_name|  customer_city|customer_state|customer_zipcode|\n",
      "+-----------+----------------+---------------+--------------+----------------+\n",
      "|       5577|      Mary Smith|        Modesto|            CA|           95350|\n",
      "|       1745|      Mary Smith|Rowland Heights|            CA|           91748|\n",
      "|      11444|Kathleen Patrick|      San Diego|            CA|           92109|\n",
      "|       8846|    Thomas Smith|          Indio|            CA|           92201|\n",
      "|       6237|  Bobby Anderson|       El Cajon|            CA|           92020|\n",
      "|       4085|       Mary Carr|  Panorama City|            CA|           91402|\n",
      "|       8705|  Patricia Smith|       Stockton|            CA|           95207|\n",
      "|       3669|       Mary Soto| San Bernardino|            CA|           92410|\n",
      "|       6101|      Mary Smith|    Los Angeles|            CA|           90033|\n",
      "|      11697|  Jessica Thomas|  Laguna Niguel|            CA|           92677|\n",
      "|       1295|   Theresa Lopez|       Winnetka|            CA|           91306|\n",
      "|       4814|     Paul Suarez|    Simi Valley|            CA|           93065|\n",
      "|       8530|   William Smith|       Highland|            CA|           92346|\n",
      "|       3846|    Ronald Lewis|        Ontario|            CA|           91764|\n",
      "|      10476|     John Hodges|       Cerritos|            CA|           90703|\n",
      "|      10243|  Donna Anderson|    Los Angeles|            CA|           90034|\n",
      "|      11595|   Zachary Jones|        Modesto|            CA|           95355|\n",
      "|        847|  Jerry Ferguson|      San Diego|            CA|           92102|\n",
      "|       3440|    Mary Edwards|        Salinas|            CA|           93905|\n",
      "|       3400|     Frank Lewis|  Moreno Valley|            CA|           92557|\n",
      "+-----------+----------------+---------------+--------------+----------------+\n",
      "only showing top 20 rows\n",
      "\n"
     ]
    }
   ],
   "source": [
    "customerDF.filter(customerDF['customer_state']=='CA').show()"
   ]
  },
  {
   "cell_type": "code",
   "execution_count": 24,
   "metadata": {},
   "outputs": [
    {
     "name": "stdout",
     "output_type": "stream",
     "text": [
      "+--------------+-----+\n",
      "|customer_state|count|\n",
      "+--------------+-----+\n",
      "|            AZ|   19|\n",
      "|            SC|    2|\n",
      "|            LA|    7|\n",
      "|            MN|    1|\n",
      "|            NJ|   19|\n",
      "|            DC|    4|\n",
      "|            OR|    4|\n",
      "|            VA|   14|\n",
      "|            RI|    2|\n",
      "|            KY|    1|\n",
      "|            MI|   28|\n",
      "|            NV|   16|\n",
      "|            WI|    9|\n",
      "|            ID|    2|\n",
      "|            CA|  187|\n",
      "|            CT|    8|\n",
      "|            NC|   19|\n",
      "|            MD|   19|\n",
      "|            DE|    1|\n",
      "|            MO|   13|\n",
      "+--------------+-----+\n",
      "only showing top 20 rows\n",
      "\n"
     ]
    }
   ],
   "source": [
    "customerDF.groupby('customer_state').count().show()"
   ]
  },
  {
   "cell_type": "code",
   "execution_count": 32,
   "metadata": {},
   "outputs": [
    {
     "name": "stdout",
     "output_type": "stream",
     "text": [
      "+--------------+-----+\n",
      "|customer_state|count|\n",
      "+--------------+-----+\n",
      "|            AZ|   19|\n",
      "|            SC|    2|\n",
      "|            LA|    7|\n",
      "|            MN|    1|\n",
      "|            NJ|   19|\n",
      "|            DC|    4|\n",
      "|            OR|    4|\n",
      "|            VA|   14|\n",
      "|            RI|    2|\n",
      "|            KY|    1|\n",
      "|            MI|   28|\n",
      "|            NV|   16|\n",
      "|            WI|    9|\n",
      "|            ID|    2|\n",
      "|            CA|  187|\n",
      "|            CT|    8|\n",
      "|            NC|   19|\n",
      "|            MD|   19|\n",
      "|            DE|    1|\n",
      "|            MO|   13|\n",
      "+--------------+-----+\n",
      "only showing top 20 rows\n",
      "\n",
      "+--------------+-----+\n",
      "|customer_state|count|\n",
      "+--------------+-----+\n",
      "|            CA|  187|\n",
      "|            NY|   79|\n",
      "|            TX|   62|\n",
      "|            PR|  505|\n",
      "+--------------+-----+\n",
      "\n"
     ]
    }
   ],
   "source": [
    "a=customerDF.groupby('customer_state').count()\n",
    "a.show()\n",
    "b=a.filter(a['count']>50)\n",
    "b.show()"
   ]
  },
  {
   "cell_type": "markdown",
   "metadata": {},
   "source": [
    "# Creating a temporary view for running SQL Queries"
   ]
  },
  {
   "cell_type": "code",
   "execution_count": 27,
   "metadata": {},
   "outputs": [],
   "source": [
    "customerDF.createOrReplaceTempView(\"customers\")"
   ]
  },
  {
   "cell_type": "code",
   "execution_count": 36,
   "metadata": {},
   "outputs": [
    {
     "name": "stdout",
     "output_type": "stream",
     "text": [
      "+--------------+-----------+\n",
      "|customer_state|state_count|\n",
      "+--------------+-----------+\n",
      "|            CA|        187|\n",
      "|            NY|         79|\n",
      "|            TX|         62|\n",
      "|            PR|        505|\n",
      "+--------------+-----------+\n",
      "\n"
     ]
    }
   ],
   "source": [
    "cStateCount50=spark.sql(\"Select customer_state, count(*) as state_count from customers group by customer_state having state_count>=50\")\n",
    "cStateCount50.show()"
   ]
  },
  {
   "cell_type": "code",
   "execution_count": 35,
   "metadata": {},
   "outputs": [
    {
     "data": {
      "text/plain": [
       "pyspark.sql.dataframe.DataFrame"
      ]
     },
     "execution_count": 35,
     "metadata": {},
     "output_type": "execute_result"
    }
   ],
   "source": [
    "type(cStateCount50)"
   ]
  },
  {
   "cell_type": "code",
   "execution_count": 37,
   "metadata": {},
   "outputs": [
    {
     "name": "stdout",
     "output_type": "stream",
     "text": [
      "root\n",
      " |-- customer_state: string (nullable = true)\n",
      " |-- state_count: long (nullable = false)\n",
      "\n"
     ]
    }
   ],
   "source": [
    "cStateCount50.printSchema()"
   ]
  },
  {
   "cell_type": "code",
   "execution_count": 38,
   "metadata": {},
   "outputs": [],
   "source": [
    "cStateCount50.coalesce(1).write.save(\"cStateCount50.parquet\")"
   ]
  },
  {
   "cell_type": "markdown",
   "metadata": {},
   "source": [
    "# cStateCount50.coalesce(1).write.save(\"cStateCount50\",format='parquet')\n",
    "#cStateCount50.coalesce(1).write.parquet(\"cStateCount50.parquet\")"
   ]
  },
  {
   "cell_type": "code",
   "execution_count": 39,
   "metadata": {},
   "outputs": [],
   "source": [
    "cStateCount50.coalesce(1).write.json(\"cStateCount50.json\")"
   ]
  },
  {
   "cell_type": "markdown",
   "metadata": {},
   "source": [
    "# loading Product file in json format"
   ]
  },
  {
   "cell_type": "code",
   "execution_count": 40,
   "metadata": {},
   "outputs": [],
   "source": [
    "productDF=spark.read.load(\"/home/hduser/Downloads/products.json\",format=\"json\")"
   ]
  },
  {
   "cell_type": "code",
   "execution_count": 41,
   "metadata": {},
   "outputs": [
    {
     "name": "stdout",
     "output_type": "stream",
     "text": [
      "root\n",
      " |-- category_id: long (nullable = true)\n",
      " |-- customer_id: long (nullable = true)\n",
      " |-- product_category: string (nullable = true)\n",
      " |-- product_name: string (nullable = true)\n",
      " |-- product_price: double (nullable = true)\n",
      " |-- product_quantity: long (nullable = true)\n",
      " |-- salestxn_id: long (nullable = true)\n",
      "\n"
     ]
    }
   ],
   "source": [
    "productDF.printSchema()"
   ]
  },
  {
   "cell_type": "code",
   "execution_count": 44,
   "metadata": {},
   "outputs": [],
   "source": [
    "yelpDF=spark.read.load(\"/home/hduser/Downloads/sharedfolder/yelp_dataset\",format=\"json\")"
   ]
  },
  {
   "cell_type": "code",
   "execution_count": 43,
   "metadata": {},
   "outputs": [
    {
     "name": "stdout",
     "output_type": "stream",
     "text": [
      "root\n",
      " |-- _corrupt_record: string (nullable = true)\n",
      " |-- address: string (nullable = true)\n",
      " |-- attributes: struct (nullable = true)\n",
      " |    |-- AcceptsInsurance: string (nullable = true)\n",
      " |    |-- AgesAllowed: string (nullable = true)\n",
      " |    |-- Alcohol: string (nullable = true)\n",
      " |    |-- Ambience: string (nullable = true)\n",
      " |    |-- BYOB: string (nullable = true)\n",
      " |    |-- BYOBCorkage: string (nullable = true)\n",
      " |    |-- BestNights: string (nullable = true)\n",
      " |    |-- BikeParking: string (nullable = true)\n",
      " |    |-- BusinessAcceptsBitcoin: string (nullable = true)\n",
      " |    |-- BusinessAcceptsCreditCards: string (nullable = true)\n",
      " |    |-- BusinessParking: string (nullable = true)\n",
      " |    |-- ByAppointmentOnly: string (nullable = true)\n",
      " |    |-- Caters: string (nullable = true)\n",
      " |    |-- CoatCheck: string (nullable = true)\n",
      " |    |-- Corkage: string (nullable = true)\n",
      " |    |-- DietaryRestrictions: string (nullable = true)\n",
      " |    |-- DogsAllowed: string (nullable = true)\n",
      " |    |-- DriveThru: string (nullable = true)\n",
      " |    |-- GoodForDancing: string (nullable = true)\n",
      " |    |-- GoodForKids: string (nullable = true)\n",
      " |    |-- GoodForMeal: string (nullable = true)\n",
      " |    |-- HairSpecializesIn: string (nullable = true)\n",
      " |    |-- HappyHour: string (nullable = true)\n",
      " |    |-- HasTV: string (nullable = true)\n",
      " |    |-- Music: string (nullable = true)\n",
      " |    |-- NoiseLevel: string (nullable = true)\n",
      " |    |-- Open24Hours: string (nullable = true)\n",
      " |    |-- OutdoorSeating: string (nullable = true)\n",
      " |    |-- RestaurantsAttire: string (nullable = true)\n",
      " |    |-- RestaurantsCounterService: string (nullable = true)\n",
      " |    |-- RestaurantsDelivery: string (nullable = true)\n",
      " |    |-- RestaurantsGoodForGroups: string (nullable = true)\n",
      " |    |-- RestaurantsPriceRange2: string (nullable = true)\n",
      " |    |-- RestaurantsReservations: string (nullable = true)\n",
      " |    |-- RestaurantsTableService: string (nullable = true)\n",
      " |    |-- RestaurantsTakeOut: string (nullable = true)\n",
      " |    |-- Smoking: string (nullable = true)\n",
      " |    |-- WheelchairAccessible: string (nullable = true)\n",
      " |    |-- WiFi: string (nullable = true)\n",
      " |-- average_stars: double (nullable = true)\n",
      " |-- business_id: string (nullable = true)\n",
      " |-- categories: string (nullable = true)\n",
      " |-- city: string (nullable = true)\n",
      " |-- compliment_cool: long (nullable = true)\n",
      " |-- compliment_count: long (nullable = true)\n",
      " |-- compliment_cute: long (nullable = true)\n",
      " |-- compliment_funny: long (nullable = true)\n",
      " |-- compliment_hot: long (nullable = true)\n",
      " |-- compliment_list: long (nullable = true)\n",
      " |-- compliment_more: long (nullable = true)\n",
      " |-- compliment_note: long (nullable = true)\n",
      " |-- compliment_photos: long (nullable = true)\n",
      " |-- compliment_plain: long (nullable = true)\n",
      " |-- compliment_profile: long (nullable = true)\n",
      " |-- compliment_writer: long (nullable = true)\n",
      " |-- cool: long (nullable = true)\n",
      " |-- date: string (nullable = true)\n",
      " |-- elite: string (nullable = true)\n",
      " |-- fans: long (nullable = true)\n",
      " |-- friends: string (nullable = true)\n",
      " |-- funny: long (nullable = true)\n",
      " |-- hours: struct (nullable = true)\n",
      " |    |-- Friday: string (nullable = true)\n",
      " |    |-- Monday: string (nullable = true)\n",
      " |    |-- Saturday: string (nullable = true)\n",
      " |    |-- Sunday: string (nullable = true)\n",
      " |    |-- Thursday: string (nullable = true)\n",
      " |    |-- Tuesday: string (nullable = true)\n",
      " |    |-- Wednesday: string (nullable = true)\n",
      " |-- is_open: long (nullable = true)\n",
      " |-- latitude: double (nullable = true)\n",
      " |-- longitude: double (nullable = true)\n",
      " |-- name: string (nullable = true)\n",
      " |-- postal_code: string (nullable = true)\n",
      " |-- review_count: long (nullable = true)\n",
      " |-- review_id: string (nullable = true)\n",
      " |-- stars: double (nullable = true)\n",
      " |-- state: string (nullable = true)\n",
      " |-- text: string (nullable = true)\n",
      " |-- useful: long (nullable = true)\n",
      " |-- user_id: string (nullable = true)\n",
      " |-- yelping_since: string (nullable = true)\n",
      "\n"
     ]
    }
   ],
   "source": [
    "yelpDF.printSchema()"
   ]
  },
  {
   "cell_type": "code",
   "execution_count": 46,
   "metadata": {},
   "outputs": [],
   "source": [
    "yelpDF.createOrReplaceTempView(\"yelp\")"
   ]
  },
  {
   "cell_type": "code",
   "execution_count": 52,
   "metadata": {},
   "outputs": [
    {
     "name": "stdout",
     "output_type": "stream",
     "text": [
      "+-------------+\n",
      "|average_stars|\n",
      "+-------------+\n",
      "|         null|\n",
      "|         null|\n",
      "|         null|\n",
      "|         null|\n",
      "|         null|\n",
      "|         null|\n",
      "|         null|\n",
      "|         null|\n",
      "|         null|\n",
      "|         null|\n",
      "|         null|\n",
      "|         null|\n",
      "|         null|\n",
      "|         null|\n",
      "|         null|\n",
      "|         null|\n",
      "|         null|\n",
      "|         null|\n",
      "|         null|\n",
      "|         null|\n",
      "+-------------+\n",
      "\n"
     ]
    }
   ],
   "source": [
    "yelp_data=spark.sql(\"select average_stars from yelp limit 20\")\n",
    "yelp_data.show()"
   ]
  },
  {
   "cell_type": "code",
   "execution_count": 53,
   "metadata": {},
   "outputs": [
    {
     "name": "stdout",
     "output_type": "stream",
     "text": [
      "+--------------------+\n",
      "|        product_name|\n",
      "+--------------------+\n",
      "|O'Brien Men's Neo...|\n",
      "|O'Brien Men's Neo...|\n",
      "|Under Armour Wome...|\n",
      "|O'Brien Men's Neo...|\n",
      "|Pelican Sunstream...|\n",
      "|Nike Men's CJ Eli...|\n",
      "|Diamondback Women...|\n",
      "|Field & Stream Sp...|\n",
      "|Perfect Fitness P...|\n",
      "|Nike Men's CJ Eli...|\n",
      "|Pelican Sunstream...|\n",
      "|Nike Men's CJ Eli...|\n",
      "|Diamondback Women...|\n",
      "|Nike Men's CJ Eli...|\n",
      "|Nike Men's Dri-FI...|\n",
      "|O'Brien Men's Neo...|\n",
      "|O'Brien Men's Neo...|\n",
      "|Nike Men's Dri-FI...|\n",
      "|Diamondback Women...|\n",
      "|Under Armour Girl...|\n",
      "+--------------------+\n",
      "only showing top 20 rows\n",
      "\n"
     ]
    }
   ],
   "source": [
    "productDF.select(productDF[\"product_name\"]).show()"
   ]
  },
  {
   "cell_type": "code",
   "execution_count": 54,
   "metadata": {},
   "outputs": [
    {
     "name": "stdout",
     "output_type": "stream",
     "text": [
      "root\n",
      " |-- category_id: long (nullable = true)\n",
      " |-- customer_id: long (nullable = true)\n",
      " |-- product_category: string (nullable = true)\n",
      " |-- product_name: string (nullable = true)\n",
      " |-- product_price: double (nullable = true)\n",
      " |-- product_quantity: long (nullable = true)\n",
      " |-- salestxn_id: long (nullable = true)\n",
      "\n"
     ]
    }
   ],
   "source": [
    "productDF.printSchema()"
   ]
  },
  {
   "cell_type": "code",
   "execution_count": 57,
   "metadata": {},
   "outputs": [
    {
     "ename": "NameError",
     "evalue": "name 'productDf' is not defined",
     "output_type": "error",
     "traceback": [
      "\u001b[0;31m---------------------------------------------------------------------------\u001b[0m",
      "\u001b[0;31mNameError\u001b[0m                                 Traceback (most recent call last)",
      "\u001b[0;32m<ipython-input-57-3579d5c84b46>\u001b[0m in \u001b[0;36m<module>\u001b[0;34m\u001b[0m\n\u001b[0;32m----> 1\u001b[0;31m \u001b[0mproductDF\u001b[0m\u001b[0;34m.\u001b[0m\u001b[0mselect\u001b[0m\u001b[0;34m(\u001b[0m\u001b[0mproductDf\u001b[0m\u001b[0;34m[\u001b[0m\u001b[0;34m'product_name'\u001b[0m\u001b[0;34m]\u001b[0m\u001b[0;34m,\u001b[0m\u001b[0mproductDF\u001b[0m\u001b[0;34m[\u001b[0m\u001b[0;34m'product_category'\u001b[0m\u001b[0;34m]\u001b[0m\u001b[0;34m,\u001b[0m\u001b[0mproductDF\u001b[0m\u001b[0;34m[\u001b[0m\u001b[0;34m'product_price'\u001b[0m\u001b[0;34m]\u001b[0m\u001b[0;34m)\u001b[0m\u001b[0;34m.\u001b[0m\u001b[0mshow\u001b[0m\u001b[0;34m(\u001b[0m\u001b[0;34m)\u001b[0m\u001b[0;34m\u001b[0m\u001b[0m\n\u001b[0m",
      "\u001b[0;31mNameError\u001b[0m: name 'productDf' is not defined"
     ]
    }
   ],
   "source": [
    "productDF.select(productDf['product_name'],productDF['product_category'],productDF['product_price']).show()"
   ]
  },
  {
   "cell_type": "code",
   "execution_count": 58,
   "metadata": {},
   "outputs": [
    {
     "name": "stdout",
     "output_type": "stream",
     "text": [
      "+-----------+-----------+------------------+--------------------+-------------+----------------+-----------+\n",
      "|category_id|customer_id|  product_category|        product_name|product_price|product_quantity|salestxn_id|\n",
      "+-----------+-----------+------------------+--------------------+-------------+----------------+-----------+\n",
      "|         42|        702| Bike & Skate Shop|Diamondback Women...|       299.98|               1|     140220|\n",
      "|         44|       3959|Hunting & Shooting|Field & Stream Sp...|       399.98|               1|      77426|\n",
      "|         42|       5658| Bike & Skate Shop|Diamondback Women...|       299.98|               1|      84894|\n",
      "|         42|       9356| Bike & Skate Shop|Diamondback Women...|       299.98|               1|     102807|\n",
      "|         42|       8651| Bike & Skate Shop|Diamondback Women...|       299.98|               1|     134324|\n",
      "|         44|      12072|Hunting & Shooting|Field & Stream Sp...|       399.98|               1|      27476|\n",
      "|         42|       7830| Bike & Skate Shop|Diamondback Women...|       299.98|               1|     154460|\n",
      "|         42|       6995| Bike & Skate Shop|Diamondback Women...|       299.98|               1|     109562|\n",
      "|         42|      12428| Bike & Skate Shop|Diamondback Women...|       299.98|               1|     172090|\n",
      "|         44|       7013|Hunting & Shooting|Field & Stream Sp...|       399.98|               1|       3516|\n",
      "|         44|       9992|Hunting & Shooting|Field & Stream Sp...|       399.98|               1|     150088|\n",
      "|         42|       7816| Bike & Skate Shop|Diamondback Women...|       299.98|               1|     164863|\n",
      "|         44|      10300|Hunting & Shooting|Field & Stream Sp...|       399.98|               1|      32507|\n",
      "|         44|       2152|Hunting & Shooting|Field & Stream Sp...|       399.98|               1|      50567|\n",
      "|         44|        602|Hunting & Shooting|Field & Stream Sp...|       399.98|               1|      79804|\n",
      "|         44|        685|Hunting & Shooting|Field & Stream Sp...|       399.98|               1|      68394|\n",
      "|         44|       7396|Hunting & Shooting|Field & Stream Sp...|       399.98|               1|      45827|\n",
      "|         42|      11165| Bike & Skate Shop|Diamondback Women...|       299.98|               1|      99392|\n",
      "|         44|      11584|Hunting & Shooting|Field & Stream Sp...|       399.98|               1|      30107|\n",
      "|         44|       6887|Hunting & Shooting|Field & Stream Sp...|       399.98|               1|     108056|\n",
      "+-----------+-----------+------------------+--------------------+-------------+----------------+-----------+\n",
      "only showing top 20 rows\n",
      "\n"
     ]
    }
   ],
   "source": [
    "productDF.filter(productDF[\"product_price\"]>=200).show()"
   ]
  },
  {
   "cell_type": "code",
   "execution_count": 60,
   "metadata": {},
   "outputs": [
    {
     "name": "stdout",
     "output_type": "stream",
     "text": [
      "+-------------------+-----+\n",
      "|   product_category|count|\n",
      "+-------------------+-----+\n",
      "|  Training by Sport|    5|\n",
      "|   Men's Golf Clubs|   21|\n",
      "|   Camping & Hiking|   44|\n",
      "|Fitness Accessories|   47|\n",
      "|         Golf Shoes|    6|\n",
      "|         Basketball|   36|\n",
      "|        Electronics|   48|\n",
      "|          Team Shop|  162|\n",
      "|      Men's Apparel| 2085|\n",
      "|  Bike & Skate Shop| 1377|\n",
      "|  Golf Bags & Carts|   89|\n",
      "|    As Seen on  TV!| 2399|\n",
      "|       Boxing & MMA|  115|\n",
      "| Hunting & Shooting| 1785|\n",
      "|Baseball & Softball|    4|\n",
      "|       Golf Apparel|   51|\n",
      "| Women's Golf Clubs|   57|\n",
      "|      Shop By Sport|   26|\n",
      "|            Fishing| 1953|\n",
      "|        Accessories|  110|\n",
      "+-------------------+-----+\n",
      "only showing top 20 rows\n",
      "\n"
     ]
    }
   ],
   "source": [
    "productDF.groupby(\"product_category\").count().show()"
   ]
  },
  {
   "cell_type": "markdown",
   "metadata": {},
   "source": [
    "# Create temp view for running sql queries "
   ]
  },
  {
   "cell_type": "code",
   "execution_count": 72,
   "metadata": {},
   "outputs": [],
   "source": [
    "productDF.createOrReplaceTempView(\"products\")\n",
    "#productDF.printSchema()"
   ]
  },
  {
   "cell_type": "code",
   "execution_count": 77,
   "metadata": {},
   "outputs": [
    {
     "name": "stdout",
     "output_type": "stream",
     "text": [
      "+-----------+-----------+------------------+--------------------+-------------+----------------+-----------+\n",
      "|category_id|customer_id|  product_category|        product_name|product_price|product_quantity|salestxn_id|\n",
      "+-----------+-----------+------------------+--------------------+-------------+----------------+-----------+\n",
      "|         45|      12080|           Fishing|O'Brien Men's Neo...|        49.98|               2|      98660|\n",
      "|         45|      12279|           Fishing|O'Brien Men's Neo...|        49.98|               2|      97749|\n",
      "|         12|       3343|      Boxing & MMA|Under Armour Wome...|        31.99|               4|     103889|\n",
      "|         45|      12382|           Fishing|O'Brien Men's Neo...|        49.98|               5|      22751|\n",
      "|         47|       5032|           Boating|Pelican Sunstream...|       199.99|               1|     129001|\n",
      "|         17|       2663|            Cleats|Nike Men's CJ Eli...|       129.99|               1|     165110|\n",
      "|         42|        702| Bike & Skate Shop|Diamondback Women...|       299.98|               1|     140220|\n",
      "|         44|       3959|Hunting & Shooting|Field & Stream Sp...|       399.98|               1|      77426|\n",
      "|         16|       1836|   As Seen on  TV!|Perfect Fitness P...|        59.99|               4|     101870|\n",
      "|         17|       5212|            Cleats|Nike Men's CJ Eli...|       129.99|               1|     131685|\n",
      "|         47|       4037|           Boating|Pelican Sunstream...|       199.99|               1|     164177|\n",
      "|         17|       7528|            Cleats|Nike Men's CJ Eli...|       129.99|               1|      78983|\n",
      "|         42|       5658| Bike & Skate Shop|Diamondback Women...|       299.98|               1|      84894|\n",
      "|         17|       6888|            Cleats|Nike Men's CJ Eli...|       129.99|               1|     170683|\n",
      "|         23|       7946|     Men's Apparel|Nike Men's Dri-FI...|         50.0|               3|      22083|\n",
      "|         45|      10667|           Fishing|O'Brien Men's Neo...|        49.98|               1|      76014|\n",
      "|         45|       9976|           Fishing|O'Brien Men's Neo...|        49.98|               5|      79165|\n",
      "|         23|       4798|     Men's Apparel|Nike Men's Dri-FI...|         50.0|               1|      44574|\n",
      "|         42|       9356| Bike & Skate Shop|Diamondback Women...|       299.98|               1|     102807|\n",
      "|         28|       8284|        Top Brands|Under Armour Girl...|        39.99|               1|     125420|\n",
      "+-----------+-----------+------------------+--------------------+-------------+----------------+-----------+\n",
      "only showing top 20 rows\n",
      "\n"
     ]
    }
   ],
   "source": [
    "prd=spark.sql(\"select * from products\")\n",
    "prd.show()"
   ]
  },
  {
   "cell_type": "code",
   "execution_count": 78,
   "metadata": {},
   "outputs": [],
   "source": [
    "prd200=spark.sql(\"select category_id , product_category, count(*) as prdcount from products where product_price>200 group by category_id,product_category order by product_category\")"
   ]
  },
  {
   "cell_type": "code",
   "execution_count": 79,
   "metadata": {},
   "outputs": [
    {
     "name": "stdout",
     "output_type": "stream",
     "text": [
      "root\n",
      " |-- category_id: long (nullable = true)\n",
      " |-- product_category: string (nullable = true)\n",
      " |-- prdcount: long (nullable = false)\n",
      "\n"
     ]
    }
   ],
   "source": [
    "prd200.printSchema()"
   ]
  },
  {
   "cell_type": "code",
   "execution_count": 80,
   "metadata": {},
   "outputs": [
    {
     "name": "stdout",
     "output_type": "stream",
     "text": [
      "+-----------+-------------------+--------+\n",
      "|category_id|   product_category|prdcount|\n",
      "+-----------+-------------------+--------+\n",
      "|         40|        Accessories|       7|\n",
      "|         16|    As Seen on  TV!|       6|\n",
      "|          3|Baseball & Softball|       4|\n",
      "|         42|  Bike & Skate Shop|    1377|\n",
      "|         47|            Boating|       6|\n",
      "|          9|   Cardio Equipment|       3|\n",
      "|         37|        Electronics|       9|\n",
      "|         34|  Golf Bags & Carts|      10|\n",
      "|         44| Hunting & Shooting|    1785|\n",
      "|         30|   Men's Golf Clubs|       5|\n",
      "|         10|  Strength Training|       2|\n",
      "|          6|   Tennis & Racquet|       3|\n",
      "+-----------+-------------------+--------+\n",
      "\n"
     ]
    }
   ],
   "source": [
    "prd200.show()"
   ]
  },
  {
   "cell_type": "code",
   "execution_count": 81,
   "metadata": {},
   "outputs": [],
   "source": [
    "prd200.coalesce(1).write.save(\"prd200.parquet\")"
   ]
  },
  {
   "cell_type": "code",
   "execution_count": 82,
   "metadata": {},
   "outputs": [
    {
     "name": "stdout",
     "output_type": "stream",
     "text": [
      "+-----------+-----------+------------------+--------------------+-------------+----------------+-----------+\n",
      "|category_id|customer_id|  product_category|        product_name|product_price|product_quantity|salestxn_id|\n",
      "+-----------+-----------+------------------+--------------------+-------------+----------------+-----------+\n",
      "|         45|      12080|           Fishing|O'Brien Men's Neo...|        49.98|               2|      98660|\n",
      "|         45|      12279|           Fishing|O'Brien Men's Neo...|        49.98|               2|      97749|\n",
      "|         12|       3343|      Boxing & MMA|Under Armour Wome...|        31.99|               4|     103889|\n",
      "|         45|      12382|           Fishing|O'Brien Men's Neo...|        49.98|               5|      22751|\n",
      "|         47|       5032|           Boating|Pelican Sunstream...|       199.99|               1|     129001|\n",
      "|         17|       2663|            Cleats|Nike Men's CJ Eli...|       129.99|               1|     165110|\n",
      "|         42|        702| Bike & Skate Shop|Diamondback Women...|       299.98|               1|     140220|\n",
      "|         44|       3959|Hunting & Shooting|Field & Stream Sp...|       399.98|               1|      77426|\n",
      "|         16|       1836|   As Seen on  TV!|Perfect Fitness P...|        59.99|               4|     101870|\n",
      "|         17|       5212|            Cleats|Nike Men's CJ Eli...|       129.99|               1|     131685|\n",
      "|         47|       4037|           Boating|Pelican Sunstream...|       199.99|               1|     164177|\n",
      "|         17|       7528|            Cleats|Nike Men's CJ Eli...|       129.99|               1|      78983|\n",
      "|         42|       5658| Bike & Skate Shop|Diamondback Women...|       299.98|               1|      84894|\n",
      "|         17|       6888|            Cleats|Nike Men's CJ Eli...|       129.99|               1|     170683|\n",
      "|         23|       7946|     Men's Apparel|Nike Men's Dri-FI...|         50.0|               3|      22083|\n",
      "|         45|      10667|           Fishing|O'Brien Men's Neo...|        49.98|               1|      76014|\n",
      "|         45|       9976|           Fishing|O'Brien Men's Neo...|        49.98|               5|      79165|\n",
      "|         23|       4798|     Men's Apparel|Nike Men's Dri-FI...|         50.0|               1|      44574|\n",
      "|         42|       9356| Bike & Skate Shop|Diamondback Women...|       299.98|               1|     102807|\n",
      "|         28|       8284|        Top Brands|Under Armour Girl...|        39.99|               1|     125420|\n",
      "+-----------+-----------+------------------+--------------------+-------------+----------------+-----------+\n",
      "only showing top 20 rows\n",
      "\n"
     ]
    }
   ],
   "source": [
    "prd.show()"
   ]
  },
  {
   "cell_type": "code",
   "execution_count": 84,
   "metadata": {},
   "outputs": [
    {
     "name": "stdout",
     "output_type": "stream",
     "text": [
      "+-----------+----------------+-------------+--------------+----------------+\n",
      "|customer_id|   customer_name|customer_city|customer_state|customer_zipcode|\n",
      "+-----------+----------------+-------------+--------------+----------------+\n",
      "|      11039|     Mary Torres|       Caguas|            PR|             725|\n",
      "|       5623|      Jose Haley|     Columbus|            OH|           43207|\n",
      "|       5829|      Mary Smith|      Houston|            TX|           77015|\n",
      "|       6336|  Richard Maddox|       Caguas|            PR|             725|\n",
      "|       1708|  Margaret Booth|    Arlington|            TX|           76010|\n",
      "|      10227|  Mary Henderson|       Caguas|            PR|             725|\n",
      "|        839|     Lisa Walker|       Caguas|            PR|             725|\n",
      "|       7604|   Jonathan Hill|      Phoenix|            AZ|           85040|\n",
      "|       6485|Carolyn Sheppard|Pompano Beach|            FL|           33063|\n",
      "|       4737|    Mary Mendoza|       Caguas|            PR|             725|\n",
      "|       5973|   Michael Smith|       Caguas|            PR|             725|\n",
      "|       9205|    James Holmes|     Hilliard|            OH|           43026|\n",
      "|        138|     Mary Dawson|       Caguas|            PR|             725|\n",
      "|        371|    Adam Marquez|  San Antonio|            TX|           78223|\n",
      "|       9285|    Gloria Smith|       Caguas|            PR|             725|\n",
      "|       1209|       Mary Webb|   San Marcos|            TX|           78666|\n",
      "|       3021|  Nancy Alvarado|     Flushing|            NY|           11354|\n",
      "|       3354|  Russell Flores|       Caguas|            PR|             725|\n",
      "|      11684|    Denise Smith|    Rego Park|            NY|           11374|\n",
      "|      11144|  Jose Dickerson|         Mesa|            AZ|           85201|\n",
      "+-----------+----------------+-------------+--------------+----------------+\n",
      "only showing top 20 rows\n",
      "\n"
     ]
    }
   ],
   "source": [
    "cust=spark.sql(\"select * from customers\")\n",
    "cust.show()"
   ]
  },
  {
   "cell_type": "code",
   "execution_count": 88,
   "metadata": {},
   "outputs": [],
   "source": [
    "custlist=spark.sql(\"select c.customer_name,p.product_category, count(*) as prdcount from customers c inner join products p on c.customer_id=p.customer_id where product_price>200 group by c.customer_name,p.product_category having prdcount>2\")"
   ]
  },
  {
   "cell_type": "code",
   "execution_count": 89,
   "metadata": {},
   "outputs": [
    {
     "name": "stdout",
     "output_type": "stream",
     "text": [
      "root\n",
      " |-- customer_name: string (nullable = true)\n",
      " |-- product_category: string (nullable = true)\n",
      " |-- prdcount: long (nullable = false)\n",
      "\n"
     ]
    }
   ],
   "source": [
    "custlist.printSchema()"
   ]
  },
  {
   "cell_type": "code",
   "execution_count": 90,
   "metadata": {},
   "outputs": [
    {
     "name": "stdout",
     "output_type": "stream",
     "text": [
      "+-------------+------------------+--------+\n",
      "|customer_name|  product_category|prdcount|\n",
      "+-------------+------------------+--------+\n",
      "|William Smith|Hunting & Shooting|       3|\n",
      "|   Mary Smith| Bike & Skate Shop|      22|\n",
      "|   Mary Smith|Hunting & Shooting|      24|\n",
      "+-------------+------------------+--------+\n",
      "\n"
     ]
    }
   ],
   "source": [
    "custlist.show()"
   ]
  },
  {
   "cell_type": "code",
   "execution_count": null,
   "metadata": {},
   "outputs": [],
   "source": []
  }
 ],
 "metadata": {
  "kernelspec": {
   "display_name": "Python 3",
   "language": "python",
   "name": "python3"
  },
  "language_info": {
   "codemirror_mode": {
    "name": "ipython",
    "version": 3
   },
   "file_extension": ".py",
   "mimetype": "text/x-python",
   "name": "python",
   "nbconvert_exporter": "python",
   "pygments_lexer": "ipython3",
   "version": "3.5.2"
  }
 },
 "nbformat": 4,
 "nbformat_minor": 2
}
