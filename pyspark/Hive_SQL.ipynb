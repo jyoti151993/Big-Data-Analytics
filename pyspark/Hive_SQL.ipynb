{
 "cells": [
  {
   "cell_type": "code",
   "execution_count": 2,
   "metadata": {},
   "outputs": [],
   "source": [
    "import findspark\n",
    "findspark.init(\"/usr/local/spark\")\n",
    "import pyspark \n",
    "from pyspark.sql import SparkSession"
   ]
  },
  {
   "cell_type": "code",
   "execution_count": 3,
   "metadata": {},
   "outputs": [],
   "source": [
    "spark=SparkSession.builder.appName(\"pyspark Hive Connect Example\").config(\"spark.sql.warehouse.dir\", \"hdfs://localhost:54310/user/local/warehouse\").enableHiveSupport().getOrCreate()"
   ]
  },
  {
   "cell_type": "code",
   "execution_count": 4,
   "metadata": {},
   "outputs": [
    {
     "name": "stdout",
     "output_type": "stream",
     "text": [
      "+------------+\n",
      "|databaseName|\n",
      "+------------+\n",
      "|     default|\n",
      "|       mydb1|\n",
      "+------------+\n",
      "\n"
     ]
    }
   ],
   "source": [
    "spark.sql(\"show databases\").show()"
   ]
  },
  {
   "cell_type": "code",
   "execution_count": 5,
   "metadata": {},
   "outputs": [
    {
     "name": "stdout",
     "output_type": "stream",
     "text": [
      "+-----------+--------------+-------------+---------------+----------------+\n",
      "|customer_id| customer_name|customer_city|cuustomer_state|customer_zipcode|\n",
      "+-----------+--------------+-------------+---------------+----------------+\n",
      "|      11039|   Mary Torres|       Caguas|             PR|             725|\n",
      "|       5623|    Jose Haley|     Columbus|             OH|           43207|\n",
      "|       5829|    Mary Smith|      Houston|             TX|           77015|\n",
      "|       6336|Richard Maddox|       Caguas|             PR|             725|\n",
      "|       1708|Margaret Booth|    Arlington|             TX|           76010|\n",
      "+-----------+--------------+-------------+---------------+----------------+\n",
      "\n"
     ]
    }
   ],
   "source": [
    "spark.sql(\"select * from mydb1.customers limit 5\").show()"
   ]
  },
  {
   "cell_type": "code",
   "execution_count": 6,
   "metadata": {},
   "outputs": [
    {
     "name": "stdout",
     "output_type": "stream",
     "text": [
      "+-----------+--------------------+------------+-------------+----------------+----------+\n",
      "|customer_id|    product_category| product_nam|product_price|product_quantity|salestxnid|\n",
      "+-----------+--------------------+------------+-------------+----------------+----------+\n",
      "|      98660|O'Brien Men's Neo...|     Fishing|         45.0|              49|         2|\n",
      "|      97749|O'Brien Men's Neo...|     Fishing|         45.0|              49|         2|\n",
      "|     103889|Under Armour Wome...|Boxing & MMA|         12.0|              31|         4|\n",
      "|      22751|O'Brien Men's Neo...|     Fishing|         45.0|              49|         5|\n",
      "|     129001|Pelican Sunstream...|     Boating|         47.0|             199|         1|\n",
      "+-----------+--------------------+------------+-------------+----------------+----------+\n",
      "\n"
     ]
    }
   ],
   "source": [
    "spark.sql(\"select * from mydb1.products limit 5\").show()"
   ]
  },
  {
   "cell_type": "code",
   "execution_count": 11,
   "metadata": {},
   "outputs": [
    {
     "name": "stdout",
     "output_type": "stream",
     "text": [
      "+-----------+-----------------+-------------+---------------+----------------+\n",
      "|customer_id|    customer_name|customer_city|cuustomer_state|customer_zipcode|\n",
      "+-----------+-----------------+-------------+---------------+----------------+\n",
      "|       6336|   Richard Maddox|       Caguas|             PR|             725|\n",
      "|       9552|Richard Wilkerson|    Las Vegas|             NV|           89110|\n",
      "|       1057|   Richard Haynes|      Hayward|             CA|           94544|\n",
      "|       1989|    Richard Leach|       Caguas|             PR|             725|\n",
      "|       8387|  Richard Fuentes|      Waipahu|             HI|           96797|\n",
      "+-----------+-----------------+-------------+---------------+----------------+\n",
      "\n"
     ]
    }
   ],
   "source": [
    "spark.sql(\"select * from mydb1.customers where customer_name like '%Rich%' limit 5\").show()"
   ]
  },
  {
   "cell_type": "code",
   "execution_count": 12,
   "metadata": {},
   "outputs": [
    {
     "name": "stdout",
     "output_type": "stream",
     "text": [
      "+--------+---------+-----------+\n",
      "|database|tableName|isTemporary|\n",
      "+--------+---------+-----------+\n",
      "+--------+---------+-----------+\n",
      "\n"
     ]
    }
   ],
   "source": [
    "spark.sql(\"show tables\").show()"
   ]
  },
  {
   "cell_type": "code",
   "execution_count": 13,
   "metadata": {},
   "outputs": [
    {
     "name": "stdout",
     "output_type": "stream",
     "text": [
      "+------------+\n",
      "|databaseName|\n",
      "+------------+\n",
      "|     default|\n",
      "|       mydb1|\n",
      "+------------+\n",
      "\n"
     ]
    }
   ],
   "source": [
    "spark.sql(\"show databases\").show()\n"
   ]
  },
  {
   "cell_type": "code",
   "execution_count": 14,
   "metadata": {},
   "outputs": [
    {
     "name": "stdout",
     "output_type": "stream",
     "text": [
      "++\n",
      "||\n",
      "++\n",
      "++\n",
      "\n"
     ]
    }
   ],
   "source": [
    "spark.sql(\"use mydb1\").show()"
   ]
  },
  {
   "cell_type": "code",
   "execution_count": 15,
   "metadata": {},
   "outputs": [
    {
     "name": "stdout",
     "output_type": "stream",
     "text": [
      "+--------+---------+-----------+\n",
      "|database|tableName|isTemporary|\n",
      "+--------+---------+-----------+\n",
      "|   mydb1|customers|      false|\n",
      "|   mydb1| products|      false|\n",
      "+--------+---------+-----------+\n",
      "\n"
     ]
    }
   ],
   "source": [
    "spark.sql(\"show tables\").show()"
   ]
  },
  {
   "cell_type": "code",
   "execution_count": 25,
   "metadata": {},
   "outputs": [
    {
     "name": "stdout",
     "output_type": "stream",
     "text": [
      "+----------------+-------------+---------------+------------------+-------------+\n",
      "|   customer_name|customer_city|cuustomer_state|       product_nam|product_price|\n",
      "+----------------+-------------+---------------+------------------+-------------+\n",
      "|       Mary Webb|   San Marcos|             TX|           Boating|         47.0|\n",
      "|Russell Peterson|      Greeley|             CO|           Boating|         47.0|\n",
      "|      Mary Smith|      Phoenix|             AZ|Hunting & Shooting|         44.0|\n",
      "|    George Smith|      Holland|             MI|           Fishing|         45.0|\n",
      "|    Mary Leonard|       Caguas|             PR|           Boating|         47.0|\n",
      "|   Mary Reynolds|       Caguas|             PR|           Fishing|         45.0|\n",
      "|Madison Sheppard|      Chicago|             IL|Hunting & Shooting|         44.0|\n",
      "| Philip Williams|       Caguas|             PR|           Boating|         47.0|\n",
      "|     John Hodges|     Cerritos|             CA|           Boating|         47.0|\n",
      "|      Mary Smith|       Caguas|             PR|Hunting & Shooting|         44.0|\n",
      "|  Margaret Grant|     Toa Baja|             PR|           Fishing|         45.0|\n",
      "|   Anna Mcdonald| Philadelphia|             PA| Bike & Skate Shop|         42.0|\n",
      "|      Mary Owens|     Columbus|             OH|Hunting & Shooting|         44.0|\n",
      "|     David Cantu|       Caguas|             PR| Bike & Skate Shop|         42.0|\n",
      "| Gloria Marshall|    Hamtramck|             MI|Hunting & Shooting|         44.0|\n",
      "|   Douglas James|    Sunnyvale|             CA| Bike & Skate Shop|         42.0|\n",
      "|     Eric Ramsey|   Buena Park|             CA| Bike & Skate Shop|         42.0|\n",
      "|      Mary Smith|     Brooklyn|             NY|           Boating|         47.0|\n",
      "|      Mary Lopez|      Madison|             WI|           Fishing|         45.0|\n",
      "|       Mary York|     Brooklyn|             NY|           Fishing|         45.0|\n",
      "+----------------+-------------+---------------+------------------+-------------+\n",
      "only showing top 20 rows\n",
      "\n"
     ]
    }
   ],
   "source": [
    "priceGt40=spark.sql(\"select customer_name, customer_city,cuustomer_state,product_nam,product_price from mydb1.customers cu join mydb1.products p on cu.customer_id=p.customer_id where product_price>40\")\n",
    "df.show()"
   ]
  },
  {
   "cell_type": "code",
   "execution_count": 26,
   "metadata": {},
   "outputs": [
    {
     "ename": "NameError",
     "evalue": "name 'priceGt40' is not defined",
     "output_type": "error",
     "traceback": [
      "\u001b[0;31m---------------------------------------------------------------------------\u001b[0m",
      "\u001b[0;31mNameError\u001b[0m                                 Traceback (most recent call last)",
      "\u001b[0;32m<ipython-input-26-7ac035dd5776>\u001b[0m in \u001b[0;36m<module>\u001b[0;34m\u001b[0m\n\u001b[0;32m----> 1\u001b[0;31m \u001b[0mpriceGt40\u001b[0m\u001b[0;34m.\u001b[0m\u001b[0mcoalesce\u001b[0m\u001b[0;34m(\u001b[0m\u001b[0;36m1\u001b[0m\u001b[0;34m)\u001b[0m\u001b[0;34m.\u001b[0m\u001b[0mwrite\u001b[0m\u001b[0;34m.\u001b[0m\u001b[0msave\u001b[0m\u001b[0;34m(\u001b[0m\u001b[0;34m\"priceGt40.parquet\"\u001b[0m\u001b[0;34m)\u001b[0m\u001b[0;34m\u001b[0m\u001b[0m\n\u001b[0m",
      "\u001b[0;31mNameError\u001b[0m: name 'priceGt40' is not defined"
     ]
    }
   ],
   "source": [
    "priceGt40.coalesce(1).write.save(\"/priceGt40.parquet\")"
   ]
  },
  {
   "cell_type": "code",
   "execution_count": null,
   "metadata": {},
   "outputs": [],
   "source": []
  }
 ],
 "metadata": {
  "kernelspec": {
   "display_name": "Python 3",
   "language": "python",
   "name": "python3"
  },
  "language_info": {
   "codemirror_mode": {
    "name": "ipython",
    "version": 3
   },
   "file_extension": ".py",
   "mimetype": "text/x-python",
   "name": "python",
   "nbconvert_exporter": "python",
   "pygments_lexer": "ipython3",
   "version": "3.5.2"
  }
 },
 "nbformat": 4,
 "nbformat_minor": 2
}
