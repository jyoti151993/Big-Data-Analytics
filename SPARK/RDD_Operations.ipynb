{
  "cells": [
    {
      "cell_type": "code",
      "execution_count": null,
      "metadata": {
        "colab": {
          "base_uri": "https://localhost:8080/"
        },
        "id": "3Dt62NGuNx0l",
        "outputId": "fd88fcd6-6ac7-4f35-bf85-0b245012a874"
      },
      "outputs": [
        {
          "output_type": "stream",
          "name": "stdout",
          "text": [
            "Looking in indexes: https://pypi.org/simple, https://us-python.pkg.dev/colab-wheels/public/simple/\n",
            "Requirement already satisfied: pyspark in /usr/local/lib/python3.8/dist-packages (3.3.1)\n",
            "Requirement already satisfied: py4j in /usr/local/lib/python3.8/dist-packages (0.10.9.5)\n"
          ]
        }
      ],
      "source": [
        "!pip install pyspark py4j"
      ]
    },
    {
      "cell_type": "code",
      "execution_count": null,
      "metadata": {
        "id": "QfBOf1ccOe9W"
      },
      "outputs": [],
      "source": [
        "from pyspark import SparkConf\n",
        "from pyspark import SparkContext"
      ]
    },
    {
      "cell_type": "markdown",
      "metadata": {
        "id": "R2PfCpt11TOd"
      },
      "source": [
        "**Creating a Spark context**\n",
        "\n"
      ]
    },
    {
      "cell_type": "code",
      "execution_count": null,
      "metadata": {
        "id": "iIDLDBvL1OWD",
        "colab": {
          "base_uri": "https://localhost:8080/",
          "height": 212
        },
        "outputId": "326c421e-0f0d-43d4-f6d3-1763c3ada36f"
      },
      "outputs": [
        {
          "output_type": "error",
          "ename": "ValueError",
          "evalue": "ignored",
          "traceback": [
            "\u001b[0;31m---------------------------------------------------------------------------\u001b[0m",
            "\u001b[0;31mValueError\u001b[0m                                Traceback (most recent call last)",
            "\u001b[0;32m<ipython-input-180-c29d89224021>\u001b[0m in \u001b[0;36m<module>\u001b[0;34m\u001b[0m\n\u001b[1;32m      1\u001b[0m \u001b[0mconf\u001b[0m\u001b[0;34m=\u001b[0m\u001b[0mSparkConf\u001b[0m\u001b[0;34m(\u001b[0m\u001b[0;34m)\u001b[0m\u001b[0;34m.\u001b[0m\u001b[0msetAppName\u001b[0m\u001b[0;34m(\u001b[0m\u001b[0;34m\"SparkRDD\"\u001b[0m\u001b[0;34m)\u001b[0m\u001b[0;34m.\u001b[0m\u001b[0msetMaster\u001b[0m\u001b[0;34m(\u001b[0m\u001b[0;34m\"local\"\u001b[0m\u001b[0;34m)\u001b[0m\u001b[0;34m\u001b[0m\u001b[0;34m\u001b[0m\u001b[0m\n\u001b[0;32m----> 2\u001b[0;31m \u001b[0msc\u001b[0m\u001b[0;34m=\u001b[0m\u001b[0mSparkContext\u001b[0m\u001b[0;34m(\u001b[0m\u001b[0mconf\u001b[0m\u001b[0;34m)\u001b[0m\u001b[0;34m\u001b[0m\u001b[0;34m\u001b[0m\u001b[0m\n\u001b[0m",
            "\u001b[0;32m/usr/local/lib/python3.8/dist-packages/pyspark/context.py\u001b[0m in \u001b[0;36m__init__\u001b[0;34m(self, master, appName, sparkHome, pyFiles, environment, batchSize, serializer, conf, gateway, jsc, profiler_cls, udf_profiler_cls)\u001b[0m\n\u001b[1;32m    193\u001b[0m             )\n\u001b[1;32m    194\u001b[0m \u001b[0;34m\u001b[0m\u001b[0m\n\u001b[0;32m--> 195\u001b[0;31m         \u001b[0mSparkContext\u001b[0m\u001b[0;34m.\u001b[0m\u001b[0m_ensure_initialized\u001b[0m\u001b[0;34m(\u001b[0m\u001b[0mself\u001b[0m\u001b[0;34m,\u001b[0m \u001b[0mgateway\u001b[0m\u001b[0;34m=\u001b[0m\u001b[0mgateway\u001b[0m\u001b[0;34m,\u001b[0m \u001b[0mconf\u001b[0m\u001b[0;34m=\u001b[0m\u001b[0mconf\u001b[0m\u001b[0;34m)\u001b[0m\u001b[0;34m\u001b[0m\u001b[0;34m\u001b[0m\u001b[0m\n\u001b[0m\u001b[1;32m    196\u001b[0m         \u001b[0;32mtry\u001b[0m\u001b[0;34m:\u001b[0m\u001b[0;34m\u001b[0m\u001b[0;34m\u001b[0m\u001b[0m\n\u001b[1;32m    197\u001b[0m             self._do_init(\n",
            "\u001b[0;32m/usr/local/lib/python3.8/dist-packages/pyspark/context.py\u001b[0m in \u001b[0;36m_ensure_initialized\u001b[0;34m(cls, instance, gateway, conf)\u001b[0m\n\u001b[1;32m    428\u001b[0m \u001b[0;34m\u001b[0m\u001b[0m\n\u001b[1;32m    429\u001b[0m                     \u001b[0;31m# Raise error if there is already a running Spark context\u001b[0m\u001b[0;34m\u001b[0m\u001b[0;34m\u001b[0m\u001b[0;34m\u001b[0m\u001b[0m\n\u001b[0;32m--> 430\u001b[0;31m                     raise ValueError(\n\u001b[0m\u001b[1;32m    431\u001b[0m                         \u001b[0;34m\"Cannot run multiple SparkContexts at once; \"\u001b[0m\u001b[0;34m\u001b[0m\u001b[0;34m\u001b[0m\u001b[0m\n\u001b[1;32m    432\u001b[0m                         \u001b[0;34m\"existing SparkContext(app=%s, master=%s)\"\u001b[0m\u001b[0;34m\u001b[0m\u001b[0;34m\u001b[0m\u001b[0m\n",
            "\u001b[0;31mValueError\u001b[0m: Cannot run multiple SparkContexts at once; existing SparkContext(app=SparkRDD, master=local) created by __init__ at <ipython-input-12-386aa413693f>:2 "
          ]
        }
      ],
      "source": [
        "conf=SparkConf().setAppName(\"SparkRDD\").setMaster(\"local\")\n",
        "sc=SparkContext(conf)"
      ]
    },
    {
      "cell_type": "markdown",
      "source": [
        "**RDD Transformations**"
      ],
      "metadata": {
        "id": "KCezgZI-nNCW"
      }
    },
    {
      "cell_type": "markdown",
      "metadata": {
        "id": "TPJXNuDg2ElD"
      },
      "source": [
        "**Creating a RDD from a list**"
      ]
    },
    {
      "cell_type": "code",
      "execution_count": null,
      "metadata": {
        "id": "Y9AiibYd10Eo"
      },
      "outputs": [],
      "source": [
        "values=[1,2,3,4,5]"
      ]
    },
    {
      "cell_type": "code",
      "execution_count": null,
      "metadata": {
        "id": "WvmnV8gj2KAU"
      },
      "outputs": [],
      "source": [
        "rdd=sc.parallelize(values)"
      ]
    },
    {
      "cell_type": "code",
      "execution_count": null,
      "metadata": {
        "id": "hvvJJYPH2QsG"
      },
      "outputs": [],
      "source": [
        "rdd.take(5)"
      ]
    },
    {
      "cell_type": "code",
      "execution_count": null,
      "metadata": {
        "id": "UDfahFeS2TT7"
      },
      "outputs": [],
      "source": [
        "type(rdd)"
      ]
    },
    {
      "cell_type": "code",
      "execution_count": null,
      "metadata": {
        "id": "WmZFOJBF25Zr"
      },
      "outputs": [],
      "source": [
        "from google.colab import files\n",
        "uploaded =files.upload()"
      ]
    },
    {
      "cell_type": "markdown",
      "metadata": {
        "id": "hdb84gIF84La"
      },
      "source": [
        "**RDD persistance**"
      ]
    },
    {
      "cell_type": "code",
      "execution_count": null,
      "metadata": {
        "id": "f-gbOJsh85tj"
      },
      "outputs": [],
      "source": [
        "aba=sc.parallelize(range(1,1000,2))\n",
        "aba.persist()"
      ]
    },
    {
      "cell_type": "markdown",
      "metadata": {
        "id": "qudtpVzx9QyA"
      },
      "source": [
        "**RDD Caching**"
      ]
    },
    {
      "cell_type": "code",
      "execution_count": null,
      "metadata": {
        "id": "jasELZuR9OfT"
      },
      "outputs": [],
      "source": [
        "txtfile=sc.textFile(\"Creat_t.txt\")\n",
        "txtfile.cache()"
      ]
    },
    {
      "cell_type": "markdown",
      "metadata": {
        "id": "GsByymrn9O59"
      },
      "source": [
        "**Map**"
      ]
    },
    {
      "cell_type": "code",
      "source": [
        "x=sc.parallelize([\"spark\",\"rdd\", \"example\", \"sample\",\"demo\",\"coalesce\",\"example\",\"pyspark\",\"mahout\",\"pig\",\"scala\",\"hive\",\"hbase\"])\n",
        "y=x.map(lambda x:(x,1))\n",
        "y.collect()"
      ],
      "metadata": {
        "id": "OxIlc0lhBFg7"
      },
      "execution_count": null,
      "outputs": []
    },
    {
      "cell_type": "markdown",
      "source": [
        "**FlatMap**\n"
      ],
      "metadata": {
        "id": "EHKMBc8ECRJB"
      }
    },
    {
      "cell_type": "code",
      "source": [
        "rdd=sc.parallelize([2,3,4])\n",
        "rdd1=(rdd.flatMap(lambda x:range(1,x)))\n",
        "rdd1.collect()\n",
        "\n"
      ],
      "metadata": {
        "id": "NbSDpaKgCTTj"
      },
      "execution_count": null,
      "outputs": []
    },
    {
      "cell_type": "markdown",
      "source": [
        "**FILTER**"
      ],
      "metadata": {
        "id": "NMorQq2aD8jF"
      }
    },
    {
      "cell_type": "code",
      "source": [
        "lstnum=sc.parallelize(range(1,20))\n",
        "even=lstnum.filter(lambda x:(x%2)==0)\n",
        "even.collect()"
      ],
      "metadata": {
        "id": "tmMiqPocD-TD"
      },
      "execution_count": null,
      "outputs": []
    },
    {
      "cell_type": "code",
      "source": [
        "odd=lstnum.filter(lambda x:(x%2)!=0)\n",
        "odd.collect()"
      ],
      "metadata": {
        "id": "h0Lbn-KUEEod"
      },
      "execution_count": null,
      "outputs": []
    },
    {
      "cell_type": "markdown",
      "source": [
        "**Sample**"
      ],
      "metadata": {
        "id": "DrYdV_CbS0g8"
      }
    },
    {
      "cell_type": "code",
      "source": [
        "sam=sc.parallelize(range(9))"
      ],
      "metadata": {
        "id": "JQj9TPLSS4wx"
      },
      "execution_count": null,
      "outputs": []
    },
    {
      "cell_type": "code",
      "source": [
        "sam.sample(True,.2).collect()"
      ],
      "metadata": {
        "id": "t1HhInHmTAqh"
      },
      "execution_count": null,
      "outputs": []
    },
    {
      "cell_type": "code",
      "source": [
        "sam.sample(False, .5).collect()"
      ],
      "metadata": {
        "id": "byHviNsjTINh"
      },
      "execution_count": null,
      "outputs": []
    },
    {
      "cell_type": "markdown",
      "source": [
        "**union**"
      ],
      "metadata": {
        "id": "l-nzQFLqV6iu"
      }
    },
    {
      "cell_type": "code",
      "source": [
        "parallel=sc.parallelize(range(1,9))\n",
        "par=sc.parallelize(range(5,15))\n",
        "parallel.union(par).collect()"
      ],
      "metadata": {
        "id": "FxB_w9h4V9fU"
      },
      "execution_count": null,
      "outputs": []
    },
    {
      "cell_type": "markdown",
      "source": [
        "**Intersection**"
      ],
      "metadata": {
        "id": "hphTAZSYWQTT"
      }
    },
    {
      "cell_type": "code",
      "source": [
        "parallel=sc.parallelize(range(1,9))\n",
        "par=sc.parallelize(range(5,15))\n",
        "parallel.intersection(par).collect()"
      ],
      "metadata": {
        "id": "D2hr3vLhWUae"
      },
      "execution_count": null,
      "outputs": []
    },
    {
      "cell_type": "markdown",
      "source": [
        "**distinct**"
      ],
      "metadata": {
        "id": "VO2IYt2AWp-0"
      }
    },
    {
      "cell_type": "code",
      "source": [
        "parallel=sc.parallelize(range(1,9))\n",
        "par=sc.parallelize(range(5,15))\n",
        "parallel.union(par).distinct().collect()"
      ],
      "metadata": {
        "id": "cfKohUGCWtUL"
      },
      "execution_count": null,
      "outputs": []
    },
    {
      "cell_type": "markdown",
      "source": [
        "***Sort By***"
      ],
      "metadata": {
        "id": "vDdhv9-uXHZu"
      }
    },
    {
      "cell_type": "code",
      "source": [
        "# ascending order by default\n",
        "y=sc.parallelize([3,1,6,9,8,4])\n",
        "y.sortBy(lambda x:x,True).collect()"
      ],
      "metadata": {
        "id": "sge0wFSiXLJw"
      },
      "execution_count": null,
      "outputs": []
    },
    {
      "cell_type": "code",
      "source": [
        "# descending order \n",
        "y=sc.parallelize([3,1,6,9,8,4])\n",
        "y.sortBy(lambda x:x,False).collect()"
      ],
      "metadata": {
        "id": "DzCI7CJ2Xd3_"
      },
      "execution_count": null,
      "outputs": []
    },
    {
      "cell_type": "code",
      "source": [
        "# sorting map\n",
        "Map=sc.parallelize([(\"L\",4),(\"M\",3),(\"J\",2.6),(\"S\",1)])\n",
        "Map.sortBy(lambda x:x,False).collect()"
      ],
      "metadata": {
        "id": "Cxyxw0wzXrBV"
      },
      "execution_count": null,
      "outputs": []
    },
    {
      "cell_type": "markdown",
      "source": [
        "**mapPartitions**"
      ],
      "metadata": {
        "id": "pdmPv0FBacnl"
      }
    },
    {
      "cell_type": "code",
      "source": [
        "rdd=sc.parallelize([1,2,3,4,5,6],3)\n",
        "def f(iterator):\n",
        "  yield sum(iterator)\n",
        "rdd.mapPartitions(f).collect()"
      ],
      "metadata": {
        "id": "UqCT0mtDaqsv"
      },
      "execution_count": null,
      "outputs": []
    },
    {
      "cell_type": "markdown",
      "source": [
        "***mapPartition with Index***"
      ],
      "metadata": {
        "id": "J-kByID2bZ4c"
      }
    },
    {
      "cell_type": "code",
      "source": [
        "rdd=sc.parallelize([1,2,3,4],3)\n",
        "def f(splitIndex, iterator):\n",
        "  yield splitIndex\n",
        "rdd.mapPartitionsWithIndex(f).sum()"
      ],
      "metadata": {
        "id": "4ZlGtVlxbeLt"
      },
      "execution_count": null,
      "outputs": []
    },
    {
      "cell_type": "markdown",
      "source": [
        "***group By***"
      ],
      "metadata": {
        "id": "sk6rPgnbcjAv"
      }
    },
    {
      "cell_type": "code",
      "source": [
        "rdd=sc.parallelize([1,1,3,2,4,5,6,8,9])\n",
        "result=rdd.groupBy(lambda x:x%3).collect()\n",
        "\n",
        "sorted([(x,sorted(y)) for (x,y) in result])"
      ],
      "metadata": {
        "id": "I9vZUdMXcoaq"
      },
      "execution_count": null,
      "outputs": []
    },
    {
      "cell_type": "markdown",
      "source": [
        "**keyBy**"
      ],
      "metadata": {
        "id": "2Yukod_4e6YN"
      }
    },
    {
      "cell_type": "code",
      "source": [
        "x=sc.parallelize(range(0,3))\n",
        "x.keyBy(lambda x:x*x).collect()"
      ],
      "metadata": {
        "id": "XyjQG_wke8jW"
      },
      "execution_count": null,
      "outputs": []
    },
    {
      "cell_type": "markdown",
      "source": [
        "**zip**"
      ],
      "metadata": {
        "id": "Lg8NHljxfYnU"
      }
    },
    {
      "cell_type": "code",
      "source": [
        "x=sc.parallelize(range(0,5))\n",
        "y=sc.parallelize(range(1000,1005))\n",
        "x.zip(y).collect()"
      ],
      "metadata": {
        "id": "DSLhkRU_fayY"
      },
      "execution_count": null,
      "outputs": []
    },
    {
      "cell_type": "markdown",
      "source": [
        "**Zip with Index**"
      ],
      "metadata": {
        "id": "8yi0ykpNgKnL"
      }
    },
    {
      "cell_type": "code",
      "source": [
        "sc.parallelize([2,3,4,6],3).zipWithIndex().collect()"
      ],
      "metadata": {
        "id": "ZeAZlwLXgRZ5"
      },
      "execution_count": null,
      "outputs": []
    },
    {
      "cell_type": "markdown",
      "source": [
        "**repartition**\n",
        ">Full reshuffling\n",
        ">slower\n",
        ">try to create equal size partitions\n",
        ">increases or decreases the partition "
      ],
      "metadata": {
        "id": "mAAe5i3Cgbwh"
      }
    },
    {
      "cell_type": "code",
      "source": [
        "rdd=sc.parallelize([1,2,3,4,5,6,7],4)\n",
        "sorted(rdd.glom().collect())"
      ],
      "metadata": {
        "id": "9rcGE40AgfPd"
      },
      "execution_count": null,
      "outputs": []
    },
    {
      "cell_type": "code",
      "source": [
        "rdd.repartition(2).glom().collect()"
      ],
      "metadata": {
        "id": "yIme9qPulfA7"
      },
      "execution_count": null,
      "outputs": []
    },
    {
      "cell_type": "code",
      "source": [
        "len(rdd.repartition(5).glom().collect())"
      ],
      "metadata": {
        "id": "hNzpx21EljM6"
      },
      "execution_count": null,
      "outputs": []
    },
    {
      "cell_type": "markdown",
      "source": [
        "**Coalesce**\n",
        "partition with the existing partion so no shuffling\n",
        "reduces the partitions\n",
        "faster"
      ],
      "metadata": {
        "id": "zfUqxX8EmXE-"
      }
    },
    {
      "cell_type": "code",
      "source": [
        "rdd=sc.parallelize([1,2,3,4,5,6,7],3)\n",
        "sorted(rdd.glom().collect())"
      ],
      "metadata": {
        "id": "BctbZ2FOmYcy"
      },
      "execution_count": null,
      "outputs": []
    },
    {
      "cell_type": "code",
      "source": [
        "rdd.coalesce(2).glom().collect()"
      ],
      "metadata": {
        "id": "sodk64XTmk2y"
      },
      "execution_count": null,
      "outputs": []
    },
    {
      "cell_type": "markdown",
      "source": [
        "**RDD ACTIONS**"
      ],
      "metadata": {
        "id": "chV_-v1coLrD"
      }
    },
    {
      "cell_type": "markdown",
      "source": [
        "**reduce**"
      ],
      "metadata": {
        "id": "C8SUKhdImvbz"
      }
    },
    {
      "cell_type": "code",
      "source": [
        "from operator import add\n",
        "sc.parallelize([2,3,4,1,5]).reduce(add)"
      ],
      "metadata": {
        "id": "DMxyw92Zmw5W"
      },
      "execution_count": null,
      "outputs": []
    },
    {
      "cell_type": "code",
      "source": [
        "sc.parallelize((5 for i in range(10))).map(lambda x:1).cache().reduce(add)"
      ],
      "metadata": {
        "id": "TXzTD7X4oorS"
      },
      "execution_count": null,
      "outputs": []
    },
    {
      "cell_type": "markdown",
      "source": [
        "**First**"
      ],
      "metadata": {
        "id": "ixKnYEEjqscB"
      }
    },
    {
      "cell_type": "code",
      "source": [
        "sc.parallelize([2,3,4,1,5]).first()"
      ],
      "metadata": {
        "id": "_akV1HTso_9s"
      },
      "execution_count": null,
      "outputs": []
    },
    {
      "cell_type": "markdown",
      "source": [
        "**takeOrdered** "
      ],
      "metadata": {
        "id": "W8kUL7y5q0Wj"
      }
    },
    {
      "cell_type": "code",
      "source": [
        "sc.parallelize([2,3,4,1,5,4,7,8,]).takeOrdered(4)\n"
      ],
      "metadata": {
        "id": "eX-Xicdtqxo9"
      },
      "execution_count": null,
      "outputs": []
    },
    {
      "cell_type": "markdown",
      "source": [
        "**take**"
      ],
      "metadata": {
        "id": "3jsUnDqKrQ9h"
      }
    },
    {
      "cell_type": "code",
      "source": [
        "sc.parallelize([2,3,4,1,5,4,7,8,]).take(3)"
      ],
      "metadata": {
        "id": "aYP4u3ySrIQf"
      },
      "execution_count": null,
      "outputs": []
    },
    {
      "cell_type": "markdown",
      "source": [
        "**count**"
      ],
      "metadata": {
        "id": "afA1fBHKrc7E"
      }
    },
    {
      "cell_type": "code",
      "source": [
        "sc.parallelize([2,3,4,1,5,4,7,8,]).count()"
      ],
      "metadata": {
        "id": "QHSpnyUerYNY"
      },
      "execution_count": null,
      "outputs": []
    },
    {
      "cell_type": "markdown",
      "source": [
        "**collect**"
      ],
      "metadata": {
        "id": "_bjh1vR2rrZL"
      }
    },
    {
      "cell_type": "code",
      "source": [
        "c=sc.parallelize([\"GNU\",\"Dog\",\"Cat\",\"Rat\",\"Wolf\",\"Cat\",\"GNU\"],2)\n",
        "c.distinct().collect()"
      ],
      "metadata": {
        "id": "Jdj8ZyhYrqND"
      },
      "execution_count": null,
      "outputs": []
    },
    {
      "cell_type": "markdown",
      "source": [
        "**saveAsTextFile**"
      ],
      "metadata": {
        "id": "oUriREcFs7Pk"
      }
    },
    {
      "cell_type": "code",
      "source": [
        "c=sc.parallelize([\"GNU\",\"Dog\",\"Cat\",\"Rat\",\"Wolf\",\"Cat\",\"GNU\"],2)\n",
        "c.saveAsTextFile(\"sample.txt\")"
      ],
      "metadata": {
        "id": "bEh8GAqlr-lq"
      },
      "execution_count": null,
      "outputs": []
    },
    {
      "cell_type": "markdown",
      "source": [
        "**foreach**"
      ],
      "metadata": {
        "id": "R3I1jFqCtaSx"
      }
    },
    {
      "cell_type": "code",
      "source": [
        "def f(x):\n",
        "  print(x)\n",
        "sc.parallelize([1,3,5,2,6]).foreach(f)  "
      ],
      "metadata": {
        "id": "MgB_BDoetT3Y"
      },
      "execution_count": null,
      "outputs": []
    },
    {
      "cell_type": "markdown",
      "source": [
        "**foreachPartition**"
      ],
      "metadata": {
        "id": "Eu_zJTeOuD_I"
      }
    },
    {
      "cell_type": "code",
      "source": [
        "def f(iterator):\n",
        "  for x in iterator:\n",
        "   print(x)\n",
        "sc.parallelize([1,3,5,2,6]).foreachPartition(f)  \n"
      ],
      "metadata": {
        "id": "bta6wtoCttv4"
      },
      "execution_count": null,
      "outputs": []
    },
    {
      "cell_type": "markdown",
      "source": [
        "**Mathematical Actions**"
      ],
      "metadata": {
        "id": "tdDvm7mmuj80"
      }
    },
    {
      "cell_type": "code",
      "source": [
        "x=sc.parallelize(range(1,100))\n",
        "x.max()"
      ],
      "metadata": {
        "id": "B7XZBpOcuQhL"
      },
      "execution_count": null,
      "outputs": []
    },
    {
      "cell_type": "code",
      "source": [
        "x.min()"
      ],
      "metadata": {
        "id": "ePlvQBEbuvvh"
      },
      "execution_count": null,
      "outputs": []
    },
    {
      "cell_type": "code",
      "source": [
        "x.mean()"
      ],
      "metadata": {
        "id": "IcLPzLtQuw5B"
      },
      "execution_count": null,
      "outputs": []
    },
    {
      "cell_type": "code",
      "source": [
        "x.stdev()"
      ],
      "metadata": {
        "id": "U21nJAvFux7o"
      },
      "execution_count": null,
      "outputs": []
    },
    {
      "cell_type": "code",
      "source": [
        "x.variance()"
      ],
      "metadata": {
        "id": "QsrVf-yFuzG1"
      },
      "execution_count": null,
      "outputs": []
    },
    {
      "cell_type": "code",
      "source": [
        "x.count()"
      ],
      "metadata": {
        "id": "1ZxatyStu763"
      },
      "execution_count": null,
      "outputs": []
    },
    {
      "cell_type": "markdown",
      "source": [
        "**countByValue**"
      ],
      "metadata": {
        "id": "a4t3KlLzvj9U"
      }
    },
    {
      "cell_type": "code",
      "source": [
        "x=sc.parallelize([1,2,3,2,5,4,6,7,3,5,6,8,4])\n",
        "x.countByValue()"
      ],
      "metadata": {
        "id": "18uZnRmLu9Kc"
      },
      "execution_count": null,
      "outputs": []
    },
    {
      "cell_type": "markdown",
      "source": [
        "**toDebugString**"
      ],
      "metadata": {
        "id": "33Fzjdl4wAOy"
      }
    },
    {
      "cell_type": "code",
      "source": [
        "a=sc.parallelize(range(1,19),3)\n",
        "b=sc.parallelize(range(1,13),3)\n",
        "c=a.subtract(b)\n",
        "c.toDebugString()"
      ],
      "metadata": {
        "id": "sMtgTKrWvwEH"
      },
      "execution_count": null,
      "outputs": []
    },
    {
      "cell_type": "markdown",
      "source": [
        "**Creating Paired-RDD**"
      ],
      "metadata": {
        "id": "ZJPLn6DWwg5E"
      }
    },
    {
      "cell_type": "code",
      "source": [
        "rdd=sc.parallelize([(\"a1\",\"b1\",\"c1\",\"d1\"),(\"a2\",\"b2\",\"c2\",\"d2\")])\n",
        "res=rdd.map(lambda x:(x[0],list(x[1:])))\n",
        "res.collect()\n"
      ],
      "metadata": {
        "id": "ATZPe7mDwkc0"
      },
      "execution_count": null,
      "outputs": []
    },
    {
      "cell_type": "markdown",
      "source": [
        "**WordCount**"
      ],
      "metadata": {
        "id": "0RepMwoqysSW"
      }
    },
    {
      "cell_type": "code",
      "source": [
        "#rdd=sc.textFile(\"spark.txt\")\n"
      ],
      "metadata": {
        "id": "X8BAImBqxZZa"
      },
      "execution_count": null,
      "outputs": []
    },
    {
      "cell_type": "code",
      "source": [
        "#nonemptylines=rdd.filter(lambda x:len(x)>0)\n",
        "#nonemptylines.collect()"
      ],
      "metadata": {
        "id": "uTurp4jByq6x"
      },
      "execution_count": null,
      "outputs": []
    },
    {
      "cell_type": "code",
      "source": [
        "#words=nonemptylines.flatMap(lambda x:x.split())\n",
        "words.collect()"
      ],
      "metadata": {
        "id": "S558MN2Zy2iS"
      },
      "execution_count": null,
      "outputs": []
    },
    {
      "cell_type": "code",
      "source": [
        "#wordcount=words.map(lambda x:(x,1)).reduceByKey(lambda x,y:(x+y)).map(lambda x:(x[1],x[0])).sortBy(False)\n",
        "#wordcount.collect()"
      ],
      "metadata": {
        "id": "kL-3l30czGQY"
      },
      "execution_count": null,
      "outputs": []
    },
    {
      "cell_type": "code",
      "source": [
        "#for word in wordcount.collect():\n",
        "  #print(word)"
      ],
      "metadata": {
        "id": "JnOJVNhpzqST"
      },
      "execution_count": null,
      "outputs": []
    },
    {
      "cell_type": "code",
      "source": [],
      "metadata": {
        "id": "F5DUuH6sz_s4"
      },
      "execution_count": null,
      "outputs": []
    }
  ],
  "metadata": {
    "colab": {
      "provenance": []
    },
    "kernelspec": {
      "display_name": "Python 3",
      "name": "python3"
    },
    "language_info": {
      "name": "python"
    }
  },
  "nbformat": 4,
  "nbformat_minor": 0
}